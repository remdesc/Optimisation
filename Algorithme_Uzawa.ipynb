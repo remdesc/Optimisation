{
 "cells": [
  {
   "cell_type": "code",
   "execution_count": null,
   "id": "8cc167b3",
   "metadata": {},
   "outputs": [],
   "source": [
    "import numpy as np\n",
    "import matplotlib.pyplot as plt"
   ]
  },
  {
   "cell_type": "markdown",
   "id": "20d59df7",
   "metadata": {},
   "source": [
    "# Initialisation des variables du problème"
   ]
  },
  {
   "cell_type": "code",
   "execution_count": null,
   "id": "372f489b",
   "metadata": {},
   "outputs": [],
   "source": [
    "lbd0 = np.array([0,0,0])\n",
    "x0 = np.array([0,0])\n",
    "A = np.array([[1, 1], [-1,1], [0,-1]])\n",
    "b = np.array([1, 1, 1])\n",
    " \n",
    "def surface(x,y):\n",
    "    return ((x+y-1<=0) and (-x+y-1<=0) and (-y-1<=0))\n",
    "\n",
    "def J(x, y):\n",
    "    return 2*x**2-x*y+y**2-2*x+3*y-1\n",
    "\n",
    "def dJ(x, y):\n",
    "    return np.array([4*x-y-2, -x+2*y+3])\n",
    "\n",
    "def proj_ortho (point):\n",
    "    n = len(point)\n",
    "    proj = np.zeros(n)\n",
    "    for i in range(n):\n",
    "        if point[i]>0:\n",
    "            proj[i]=point[i]\n",
    "    return proj\n",
    "\n",
    "\n",
    "def Jt(x,y,T):\n",
    "    S = 0\n",
    "    X = np.array([x, y])\n",
    "    ff = A@X-b\n",
    "    for i in range (3):\n",
    "        S=S+(T*np.log(-ff[i]))\n",
    "    return J(x,y)-S\n",
    "\n",
    "def dJt(x,y,T):\n",
    "    S = np.zeros(2)\n",
    "    X = np.array([x, y])\n",
    "    ff = A@X-b\n",
    "    for i in range (3):\n",
    "        S=S+(T/ff[i])*A[i]\n",
    "    return dJ(x,y)-S"
   ]
  },
  {
   "cell_type": "markdown",
   "id": "e46418fe",
   "metadata": {},
   "source": [
    "# Tracé de la surface à minimiser"
   ]
  },
  {
   "cell_type": "code",
   "execution_count": null,
   "id": "cf71f174",
   "metadata": {},
   "outputs": [],
   "source": [
    "from mpl_toolkits.mplot3d import Axes3D\n",
    "\n",
    "x = np.linspace(-1, 1, 200)\n",
    "y = np.linspace(-1, 1, 200)\n",
    "for i in range (len(x)):\n",
    "    for j in range (len(y)):\n",
    "        if ((x[i]+y[j]-1<=0) and (-x[i]+y[j]-1<=0) and (-y[j]-1<=0))==False:\n",
    "            x[i]=0\n",
    "            y[j]=0\n",
    "\n",
    "X, Y = np.meshgrid(x, y)\n",
    "Z = J(X,Y)\n",
    "\n",
    "fig = plt.figure(figsize = (10,10))\n",
    "ax = plt.axes(projection='3d')\n",
    "ax.plot_surface(X, Y, Z, rstride=1, cstride=1,\n",
    "cmap='jet', edgecolor='none')\n",
    "#ax.plot_surface(X, Y, S, rstride=1, cstride=1,cmap='jet', edgecolor='none')\n",
    "ax.set_title(\"Surface\", fontsize = 13)\n",
    "ax.set_xlabel('x', fontsize = 11)\n",
    "ax.set_ylabel('y', fontsize = 11)\n",
    "ax.set_zlabel('Z', fontsize = 10)\n",
    "plt.show()"
   ]
  },
  {
   "cell_type": "markdown",
   "id": "6b592403",
   "metadata": {},
   "source": [
    "# Algorithme d'Uzawa"
   ]
  },
  {
   "cell_type": "markdown",
   "id": "ee7622cd",
   "metadata": {},
   "source": [
    "D'après le tracé, il semble que x* = (0.25, -1).\n",
    "\n",
    "On applique l'algorithme d'Uzawa et on trace pour chaque itération la norme de la différence entre la solution donnée par l'algorithme et la solution x*."
   ]
  },
  {
   "cell_type": "code",
   "execution_count": null,
   "id": "6c1afe5a",
   "metadata": {},
   "outputs": [],
   "source": [
    "def uzawa (tau, lbd, x, itermax, eps):\n",
    "    solution = np.array([ 0.25, -1])\n",
    "    i = 0\n",
    "    liste = []\n",
    "    while (i < itermax and np.linalg.norm(x-solution)>eps) :\n",
    "        x = np.linalg.solve(np.array([[4, -1], [-1, 2]]), -A.T@lbd-np.array([-2, 3]))\n",
    "        lbd = proj_ortho(lbd + tau*(A@x-b))\n",
    "        i=i+1\n",
    "        liste.append(np.linalg.norm(x-solution))\n",
    "    plt.semilogy([i for i in range(1, len(liste)+1)], liste)\n",
    "    plt.title('|xk −x∗| en fonctions des itérations')\n",
    "    return x, lbd, i\n",
    "\n",
    "print('x* = ', uzawa(0.1, lbd0, x0, 500, 10**-6)[0], ', lambda* = ', uzawa(0.1, lbd0, x0, 500, 10**-6)[1], ', nb itérations =', uzawa(0.1, lbd0, x0, 500, 10**-6)[2])"
   ]
  },
  {
   "cell_type": "markdown",
   "id": "5b891aa2",
   "metadata": {},
   "source": [
    "# Méthode des ponts intérieurs"
   ]
  },
  {
   "cell_type": "markdown",
   "id": "d6a32e77",
   "metadata": {},
   "source": [
    "On applique l'algorithme de line search sur Jt pour différentes valeurs de t, puis on trace pour chaque t la norme de la différence entre la solution donnée par l'algorithme et la solution x*"
   ]
  },
  {
   "cell_type": "code",
   "execution_count": null,
   "id": "26385be3",
   "metadata": {},
   "outputs": [],
   "source": [
    "def f(x,y):\n",
    "    return Jt(x,y,T)\n",
    "\n",
    "def df(x,y):\n",
    "    return dJt(x,y,T)\n",
    "\n",
    "def ponts_int(X):\n",
    "    x = X[0]\n",
    "    y = X[1]\n",
    "    epsilon = 1e-6\n",
    "    alpha, beta = 0.5, 0.75\n",
    "    itermax = 2000\n",
    "    iter_ls_max = 200\n",
    "    ## initialisation \n",
    "    iter = 0\n",
    "    t = 0.01\n",
    "    fz = f(x,y)\n",
    "    Z, F =[np.array([x, y])], [fz]\n",
    "    flag = 'OK'\n",
    "\n",
    "    ## Boucle d'optimisation\n",
    "    while (iter < itermax):\n",
    "        dx, dy = -df(x, y)\n",
    "        d = np.hypot(dx, dy)\n",
    "        if d < epsilon or flag == 'Not OK':\n",
    "            break\n",
    "        dd =d**2\n",
    "        new_fz = f(x + t*dx, y + t*dy) \n",
    "        iter_ls = 0\n",
    "        while (new_fz - fz + alpha*t*dd >=0):\n",
    "            t=beta*t\n",
    "            new_fz = f(x + t*dx, y + t*dy)\n",
    "            iter_ls += 1\n",
    "            if (iter_ls>=iter_ls_max):\n",
    "                flag = 'Not OK'\n",
    "                break\n",
    "        #print(\"d = \" + str(d) + \", f(z) - 1 =\" + str(fz-1) + \", t= \" +str(t))\n",
    "        x, y, fz = x + t*dx, y + t*dy, new_fz\n",
    "        Z.append(np.array([x, y]))\n",
    "        F.append(fz)\n",
    "        t = t/beta\n",
    "        iter += 1 \n",
    "    \n",
    "    Z = np.array(Z)\n",
    "    F = np.array(F)\n",
    "    sol = Z[-1]\n",
    "    return (iter, sol)"
   ]
  },
  {
   "cell_type": "code",
   "execution_count": null,
   "id": "9dad8c50",
   "metadata": {},
   "outputs": [],
   "source": [
    "solution = np.array([-0.5, 0])\n",
    "liste_T = []\n",
    "ecart = []\n",
    "for i in range(1,7):\n",
    "    T = 1/2**i\n",
    "    liste_T.append(T)\n",
    "    print(\"T = \", T, \", nbre d'itérations :\", ponts_int(solution)[0], \", solution :\", ponts_int(solution)[1])\n",
    "    solution = ponts_int(solution)[1]\n",
    "    ecart.append(np.linalg.norm(np.array([ 0.25, -1]-solution)))\n",
    "                 \n",
    "plt.plot(liste_T, ecart)\n",
    "plt.title('|xT −x∗| en fonction de t')\n",
    "plt.xlabel('T')\n",
    "plt.ylabel('|xt −x∗|')\n",
    "plt.show()"
   ]
  },
  {
   "cell_type": "markdown",
   "id": "777c1bb8",
   "metadata": {},
   "source": [
    "On a bien convergence de xt vers x* quand t tend vers 0."
   ]
  },
  {
   "cell_type": "code",
   "execution_count": null,
   "id": "6bbc01bc",
   "metadata": {},
   "outputs": [],
   "source": []
  }
 ],
 "metadata": {
  "kernelspec": {
   "display_name": "Python 3",
   "language": "python",
   "name": "python3"
  },
  "language_info": {
   "codemirror_mode": {
    "name": "ipython",
    "version": 3
   },
   "file_extension": ".py",
   "mimetype": "text/x-python",
   "name": "python",
   "nbconvert_exporter": "python",
   "pygments_lexer": "ipython3",
   "version": "3.8.8"
  }
 },
 "nbformat": 4,
 "nbformat_minor": 5
}
